{
  "cells": [
    {
      "cell_type": "markdown",
      "metadata": {},
      "source": [
        "### Hello! Let's investigate these datasets! First, we'll import the needed modules"
      ]
    },
    {
      "cell_type": "code",
      "execution_count": 1,
      "metadata": {
        "id": "owj5jQFeNHVr"
      },
      "outputs": [],
      "source": [
        "import pandas as pd\n",
        "import numpy as np\n",
        "import matplotlib.pyplot as plt\n",
        "import datetime\n",
        "import os\n",
        "import glob"
      ]
    },
    {
      "cell_type": "markdown",
      "metadata": {},
      "source": [
        "#### Buoys"
      ]
    },
    {
      "cell_type": "markdown",
      "metadata": {},
      "source": [
        "Then, let's collect the data from the buoys and take a first look at it"
      ]
    },
    {
      "cell_type": "code",
      "execution_count": 2,
      "metadata": {},
      "outputs": [
        {
          "name": "stderr",
          "output_type": "stream",
          "text": [
            "C:\\Users\\lu-lu\\AppData\\Roaming\\Python\\Python39\\site-packages\\IPython\\core\\interactiveshell.py:3418: DtypeWarning: Columns (0,1,4,5,6,7,8,9,10,11) have mixed types.Specify dtype option on import or set low_memory=False.\n",
            "  exec(code_obj, self.user_global_ns, self.user_ns)\n"
          ]
        },
        {
          "data": {
            "text/html": [
              "<div>\n",
              "<style scoped>\n",
              "    .dataframe tbody tr th:only-of-type {\n",
              "        vertical-align: middle;\n",
              "    }\n",
              "\n",
              "    .dataframe tbody tr th {\n",
              "        vertical-align: top;\n",
              "    }\n",
              "\n",
              "    .dataframe thead th {\n",
              "        text-align: right;\n",
              "    }\n",
              "</style>\n",
              "<table border=\"1\" class=\"dataframe\">\n",
              "  <thead>\n",
              "    <tr style=\"text-align: right;\">\n",
              "      <th></th>\n",
              "      <th>longitude</th>\n",
              "      <th>latitude</th>\n",
              "      <th>time</th>\n",
              "      <th>station_id</th>\n",
              "      <th>PeakPeriod</th>\n",
              "      <th>PeakDirection</th>\n",
              "      <th>UpcrossPeriod</th>\n",
              "      <th>SignificantWaveHeight</th>\n",
              "      <th>Hmax</th>\n",
              "      <th>SeaTemperature</th>\n",
              "      <th>MeanCurSpeed</th>\n",
              "      <th>MeanCurDirTo</th>\n",
              "    </tr>\n",
              "  </thead>\n",
              "  <tbody>\n",
              "    <tr>\n",
              "      <th>0</th>\n",
              "      <td>degrees_east</td>\n",
              "      <td>degrees_north</td>\n",
              "      <td>UTC</td>\n",
              "      <td>NaN</td>\n",
              "      <td>s</td>\n",
              "      <td>degrees_true</td>\n",
              "      <td>s</td>\n",
              "      <td>cm</td>\n",
              "      <td>cm</td>\n",
              "      <td>degree_C</td>\n",
              "      <td>m/s</td>\n",
              "      <td>degrees_true</td>\n",
              "    </tr>\n",
              "    <tr>\n",
              "      <th>1</th>\n",
              "      <td>-9.911498</td>\n",
              "      <td>53.801353</td>\n",
              "      <td>2021-10-30T00:03:00Z</td>\n",
              "      <td>Clew Bay</td>\n",
              "      <td>11.11</td>\n",
              "      <td>281.3</td>\n",
              "      <td>4.651</td>\n",
              "      <td>85.0</td>\n",
              "      <td>NaN</td>\n",
              "      <td>13.3</td>\n",
              "      <td>NaN</td>\n",
              "      <td>NaN</td>\n",
              "    </tr>\n",
              "    <tr>\n",
              "      <th>2</th>\n",
              "      <td>-9.911498</td>\n",
              "      <td>53.801353</td>\n",
              "      <td>2021-10-30T00:33:00Z</td>\n",
              "      <td>Clew Bay</td>\n",
              "      <td>10.53</td>\n",
              "      <td>272.8</td>\n",
              "      <td>4.878</td>\n",
              "      <td>86.0</td>\n",
              "      <td>NaN</td>\n",
              "      <td>13.3</td>\n",
              "      <td>NaN</td>\n",
              "      <td>NaN</td>\n",
              "    </tr>\n",
              "    <tr>\n",
              "      <th>3</th>\n",
              "      <td>-9.911498</td>\n",
              "      <td>53.801353</td>\n",
              "      <td>2021-10-30T01:03:00Z</td>\n",
              "      <td>Clew Bay</td>\n",
              "      <td>11.11</td>\n",
              "      <td>308.0</td>\n",
              "      <td>4.938</td>\n",
              "      <td>84.0</td>\n",
              "      <td>NaN</td>\n",
              "      <td>13.25</td>\n",
              "      <td>NaN</td>\n",
              "      <td>NaN</td>\n",
              "    </tr>\n",
              "    <tr>\n",
              "      <th>4</th>\n",
              "      <td>-9.911498</td>\n",
              "      <td>53.801353</td>\n",
              "      <td>2021-10-30T01:33:00Z</td>\n",
              "      <td>Clew Bay</td>\n",
              "      <td>10.53</td>\n",
              "      <td>281.3</td>\n",
              "      <td>4.598</td>\n",
              "      <td>80.0</td>\n",
              "      <td>NaN</td>\n",
              "      <td>13.25</td>\n",
              "      <td>NaN</td>\n",
              "      <td>NaN</td>\n",
              "    </tr>\n",
              "  </tbody>\n",
              "</table>\n",
              "</div>"
            ],
            "text/plain": [
              "      longitude       latitude                  time station_id PeakPeriod  \\\n",
              "0  degrees_east  degrees_north                   UTC        NaN          s   \n",
              "1     -9.911498      53.801353  2021-10-30T00:03:00Z   Clew Bay      11.11   \n",
              "2     -9.911498      53.801353  2021-10-30T00:33:00Z   Clew Bay      10.53   \n",
              "3     -9.911498      53.801353  2021-10-30T01:03:00Z   Clew Bay      11.11   \n",
              "4     -9.911498      53.801353  2021-10-30T01:33:00Z   Clew Bay      10.53   \n",
              "\n",
              "  PeakDirection UpcrossPeriod SignificantWaveHeight Hmax SeaTemperature  \\\n",
              "0  degrees_true             s                    cm   cm       degree_C   \n",
              "1         281.3         4.651                  85.0  NaN           13.3   \n",
              "2         272.8         4.878                  86.0  NaN           13.3   \n",
              "3         308.0         4.938                  84.0  NaN          13.25   \n",
              "4         281.3         4.598                  80.0  NaN          13.25   \n",
              "\n",
              "  MeanCurSpeed  MeanCurDirTo  \n",
              "0          m/s  degrees_true  \n",
              "1          NaN           NaN  \n",
              "2          NaN           NaN  \n",
              "3          NaN           NaN  \n",
              "4          NaN           NaN  "
            ]
          },
          "execution_count": 2,
          "metadata": {},
          "output_type": "execute_result"
        }
      ],
      "source": [
        "path = 'datasets\\\\buoys'\n",
        "buoys = pd.concat(map(pd.read_csv, glob.glob(path + \"/*.csv\")))\n",
        "buoys.head()"
      ]
    },
    {
      "cell_type": "code",
      "execution_count": 3,
      "metadata": {},
      "outputs": [
        {
          "data": {
            "text/plain": [
              "(335955, 12)"
            ]
          },
          "execution_count": 3,
          "metadata": {},
          "output_type": "execute_result"
        }
      ],
      "source": [
        "buoys.shape"
      ]
    },
    {
      "cell_type": "code",
      "execution_count": 4,
      "metadata": {},
      "outputs": [
        {
          "data": {
            "text/plain": [
              "longitude                object\n",
              "latitude                 object\n",
              "time                     object\n",
              "station_id               object\n",
              "PeakPeriod               object\n",
              "PeakDirection            object\n",
              "UpcrossPeriod            object\n",
              "SignificantWaveHeight    object\n",
              "Hmax                     object\n",
              "SeaTemperature           object\n",
              "MeanCurSpeed             object\n",
              "MeanCurDirTo             object\n",
              "dtype: object"
            ]
          },
          "execution_count": 4,
          "metadata": {},
          "output_type": "execute_result"
        }
      ],
      "source": [
        "buoys.dtypes"
      ]
    },
    {
      "cell_type": "markdown",
      "metadata": {},
      "source": [
        "We see here that we have a lot of data from the buoys and that all the features came as objects. We need some of them as numbers so we can analyse them!\n",
        "So I created the below function for that purpose: it gets all the columns, except the ones that need to remain as strings: the timestamp and the station name. All of the other ones will be cast as a numerical type."
      ]
    },
    {
      "cell_type": "code",
      "execution_count": 5,
      "metadata": {},
      "outputs": [],
      "source": [
        "def type_casting(df):\n",
        "  col = df.columns\n",
        "  col = col.drop(['time', 'station_id'])\n",
        "  df1 = df[col].astype(float)\n",
        "  df1[['time', 'station_id']] = df[['time', 'station_id']]\n",
        "  return df1"
      ]
    },
    {
      "cell_type": "markdown",
      "metadata": {},
      "source": [
        "I'll also eliminate the second row, since it has only the units in which the features are measured"
      ]
    },
    {
      "cell_type": "code",
      "execution_count": 6,
      "metadata": {},
      "outputs": [
        {
          "data": {
            "text/html": [
              "<div>\n",
              "<style scoped>\n",
              "    .dataframe tbody tr th:only-of-type {\n",
              "        vertical-align: middle;\n",
              "    }\n",
              "\n",
              "    .dataframe tbody tr th {\n",
              "        vertical-align: top;\n",
              "    }\n",
              "\n",
              "    .dataframe thead th {\n",
              "        text-align: right;\n",
              "    }\n",
              "</style>\n",
              "<table border=\"1\" class=\"dataframe\">\n",
              "  <thead>\n",
              "    <tr style=\"text-align: right;\">\n",
              "      <th></th>\n",
              "      <th>longitude</th>\n",
              "      <th>latitude</th>\n",
              "      <th>time</th>\n",
              "      <th>station_id</th>\n",
              "      <th>PeakPeriod</th>\n",
              "      <th>PeakDirection</th>\n",
              "      <th>UpcrossPeriod</th>\n",
              "      <th>SignificantWaveHeight</th>\n",
              "      <th>Hmax</th>\n",
              "      <th>SeaTemperature</th>\n",
              "      <th>MeanCurSpeed</th>\n",
              "      <th>MeanCurDirTo</th>\n",
              "    </tr>\n",
              "  </thead>\n",
              "  <tbody>\n",
              "    <tr>\n",
              "      <th>1</th>\n",
              "      <td>-9.911498</td>\n",
              "      <td>53.801353</td>\n",
              "      <td>2021-10-30T00:03:00Z</td>\n",
              "      <td>Clew Bay</td>\n",
              "      <td>11.11</td>\n",
              "      <td>281.3</td>\n",
              "      <td>4.651</td>\n",
              "      <td>85.0</td>\n",
              "      <td>NaN</td>\n",
              "      <td>13.3</td>\n",
              "      <td>NaN</td>\n",
              "      <td>NaN</td>\n",
              "    </tr>\n",
              "    <tr>\n",
              "      <th>2</th>\n",
              "      <td>-9.911498</td>\n",
              "      <td>53.801353</td>\n",
              "      <td>2021-10-30T00:33:00Z</td>\n",
              "      <td>Clew Bay</td>\n",
              "      <td>10.53</td>\n",
              "      <td>272.8</td>\n",
              "      <td>4.878</td>\n",
              "      <td>86.0</td>\n",
              "      <td>NaN</td>\n",
              "      <td>13.3</td>\n",
              "      <td>NaN</td>\n",
              "      <td>NaN</td>\n",
              "    </tr>\n",
              "    <tr>\n",
              "      <th>3</th>\n",
              "      <td>-9.911498</td>\n",
              "      <td>53.801353</td>\n",
              "      <td>2021-10-30T01:03:00Z</td>\n",
              "      <td>Clew Bay</td>\n",
              "      <td>11.11</td>\n",
              "      <td>308.0</td>\n",
              "      <td>4.938</td>\n",
              "      <td>84.0</td>\n",
              "      <td>NaN</td>\n",
              "      <td>13.25</td>\n",
              "      <td>NaN</td>\n",
              "      <td>NaN</td>\n",
              "    </tr>\n",
              "    <tr>\n",
              "      <th>4</th>\n",
              "      <td>-9.911498</td>\n",
              "      <td>53.801353</td>\n",
              "      <td>2021-10-30T01:33:00Z</td>\n",
              "      <td>Clew Bay</td>\n",
              "      <td>10.53</td>\n",
              "      <td>281.3</td>\n",
              "      <td>4.598</td>\n",
              "      <td>80.0</td>\n",
              "      <td>NaN</td>\n",
              "      <td>13.25</td>\n",
              "      <td>NaN</td>\n",
              "      <td>NaN</td>\n",
              "    </tr>\n",
              "    <tr>\n",
              "      <th>5</th>\n",
              "      <td>-9.911498</td>\n",
              "      <td>53.801353</td>\n",
              "      <td>2021-10-30T02:03:00Z</td>\n",
              "      <td>Clew Bay</td>\n",
              "      <td>11.76</td>\n",
              "      <td>285.5</td>\n",
              "      <td>4.878</td>\n",
              "      <td>74.0</td>\n",
              "      <td>NaN</td>\n",
              "      <td>13.2</td>\n",
              "      <td>NaN</td>\n",
              "      <td>NaN</td>\n",
              "    </tr>\n",
              "  </tbody>\n",
              "</table>\n",
              "</div>"
            ],
            "text/plain": [
              "   longitude   latitude                  time station_id PeakPeriod  \\\n",
              "1  -9.911498  53.801353  2021-10-30T00:03:00Z   Clew Bay      11.11   \n",
              "2  -9.911498  53.801353  2021-10-30T00:33:00Z   Clew Bay      10.53   \n",
              "3  -9.911498  53.801353  2021-10-30T01:03:00Z   Clew Bay      11.11   \n",
              "4  -9.911498  53.801353  2021-10-30T01:33:00Z   Clew Bay      10.53   \n",
              "5  -9.911498  53.801353  2021-10-30T02:03:00Z   Clew Bay      11.76   \n",
              "\n",
              "  PeakDirection UpcrossPeriod SignificantWaveHeight Hmax SeaTemperature  \\\n",
              "1         281.3         4.651                  85.0  NaN           13.3   \n",
              "2         272.8         4.878                  86.0  NaN           13.3   \n",
              "3         308.0         4.938                  84.0  NaN          13.25   \n",
              "4         281.3         4.598                  80.0  NaN          13.25   \n",
              "5         285.5         4.878                  74.0  NaN           13.2   \n",
              "\n",
              "  MeanCurSpeed MeanCurDirTo  \n",
              "1          NaN          NaN  \n",
              "2          NaN          NaN  \n",
              "3          NaN          NaN  \n",
              "4          NaN          NaN  \n",
              "5          NaN          NaN  "
            ]
          },
          "execution_count": 6,
          "metadata": {},
          "output_type": "execute_result"
        }
      ],
      "source": [
        "buoys.drop(0, axis = 0, inplace = True)\n",
        "buoys.head()"
      ]
    },
    {
      "cell_type": "markdown",
      "metadata": {},
      "source": [
        "Here we check for null values, eliminating the features with many such values we won't need, and eliminating the rows with null values that are left."
      ]
    },
    {
      "cell_type": "code",
      "execution_count": 7,
      "metadata": {},
      "outputs": [
        {
          "data": {
            "text/plain": [
              "longitude                     0\n",
              "latitude                      0\n",
              "time                          0\n",
              "station_id                    0\n",
              "PeakPeriod               229062\n",
              "PeakDirection            229062\n",
              "UpcrossPeriod            229062\n",
              "SignificantWaveHeight    229062\n",
              "Hmax                     290200\n",
              "SeaTemperature                0\n",
              "MeanCurSpeed             283050\n",
              "MeanCurDirTo             283053\n",
              "dtype: int64"
            ]
          },
          "execution_count": 7,
          "metadata": {},
          "output_type": "execute_result"
        }
      ],
      "source": [
        "buoys.isna().sum()"
      ]
    },
    {
      "cell_type": "code",
      "execution_count": 8,
      "metadata": {},
      "outputs": [],
      "source": [
        "buoys.drop(['MeanCurSpeed', 'MeanCurDirTo', 'PeakDirection', 'UpcrossPeriod'], axis = 1, inplace=True)\n",
        "buoys.dropna(inplace=True)"
      ]
    },
    {
      "cell_type": "code",
      "execution_count": 9,
      "metadata": {},
      "outputs": [],
      "source": [
        "buoys = type_casting(buoys) ## casting some features as numerical"
      ]
    },
    {
      "cell_type": "markdown",
      "metadata": {},
      "source": [
        "First, we will need the names of the stations"
      ]
    },
    {
      "cell_type": "code",
      "execution_count": 10,
      "metadata": {},
      "outputs": [
        {
          "data": {
            "text/plain": [
              "Index(['Bantry Bay', 'Brandon Bay', 'SmartBay Wave Buoy', 'Clew Bay'], dtype='object')"
            ]
          },
          "execution_count": 10,
          "metadata": {},
          "output_type": "execute_result"
        }
      ],
      "source": [
        "stations = buoys['station_id'].value_counts().index\n",
        "stations"
      ]
    },
    {
      "cell_type": "markdown",
      "metadata": {},
      "source": [
        "Then, Let's build a function that gets the lowest temperature for each of the buoys and says when it happened"
      ]
    },
    {
      "cell_type": "code",
      "execution_count": 11,
      "metadata": {},
      "outputs": [],
      "source": [
        "def min_temp(station):\n",
        "  minimo = min(buoys[buoys['station_id'] == station]['SeaTemperature']) ## Here we get the lowest temperature for the buoy\n",
        "  mes = buoys[(buoys['SeaTemperature'] == minimo) & (buoys['station_id'] == station)]['time'] ## then we get all the times this temperature happened\n",
        "  date = []\n",
        "  for m in mes:  ## We get there the specific month when it happened\n",
        "    date.append(datetime.datetime.strptime(m, \"%Y-%m-%dT%H:%M:%SZ\"))\n",
        "  month = pd.DataFrame([x.strftime(\"%B\") for x in date]).value_counts().index[0][0]  ## and here we select the month where the lowest temperature usually occurs\n",
        "  print (\"The lowest temperature for \" + str(station) + \" is \" + str(minimo) + \" and it occurs in \" + str(month))\n",
        "  return minimo, month, station"
      ]
    },
    {
      "cell_type": "markdown",
      "metadata": {},
      "source": [
        "Let's test this function!"
      ]
    },
    {
      "cell_type": "code",
      "execution_count": 12,
      "metadata": {},
      "outputs": [
        {
          "name": "stdout",
          "output_type": "stream",
          "text": [
            "The lowest temperature for Bantry Bay is 5.82 and it occurs in March\n",
            "The lowest temperature for Brandon Bay is 6.28 and it occurs in March\n",
            "The lowest temperature for SmartBay Wave Buoy is 5.48 and it occurs in March\n",
            "The lowest temperature for Clew Bay is 14.75 and it occurs in June\n"
          ]
        }
      ],
      "source": [
        "minima, months, station_ids = [], [], []\n",
        "for i in stations:\n",
        "    minimum, month, station = min_temp(i)\n",
        "    minima.append(minimum)\n",
        "    months.append(month)\n",
        "    station_ids.append(station)"
      ]
    },
    {
      "cell_type": "markdown",
      "metadata": {},
      "source": [
        "It seems that for most of the buoys, the lowest temperature occurs in march. But let's try to get this information visually"
      ]
    },
    {
      "cell_type": "code",
      "execution_count": 13,
      "metadata": {},
      "outputs": [
        {
          "data": {
            "image/png": "[encoded data removed]",
            "text/plain": [
              "<Figure size 432x288 with 1 Axes>"
            ]
          },
          "metadata": {
            "needs_background": "light"
          },
          "output_type": "display_data"
        }
      ],
      "source": [
        "fig, ax = plt.subplots()\n",
        "ax.barh(station_ids, minima)\n",
        "ax.set_xlabel('Temperature °C')\n",
        "ax.set_ylabel('Station')\n",
        "ax.set_title('Lowest temperature for each buoy.')\n",
        "plt.show()"
      ]
    },
    {
      "cell_type": "markdown",
      "metadata": {},
      "source": [
        "We now know that SmartBay Wave Buoy is the coldest one!"
      ]
    },
    {
      "cell_type": "code",
      "execution_count": 14,
      "metadata": {},
      "outputs": [
        {
          "data": {
            "image/png": "[encoded data removed]",
            "text/plain": [
              "<Figure size 432x288 with 1 Axes>"
            ]
          },
          "metadata": {},
          "output_type": "display_data"
        }
      ],
      "source": [
        "mon = pd.DataFrame(months)\n",
        "vc = mon.value_counts()\n",
        "fig, ax = plt.subplots()\n",
        "ax.pie(vc[0:], labels = mon[0].value_counts().index, autopct='%1.1f%%',)\n",
        "ax.set_title('Months with the lowest temperatures')\n",
        "plt.show()"
      ]
    },
    {
      "cell_type": "markdown",
      "metadata": {},
      "source": [
        "We can see that the coldest month is march!"
      ]
    },
    {
      "cell_type": "markdown",
      "metadata": {},
      "source": [
        "#### Tides"
      ]
    },
    {
      "cell_type": "markdown",
      "metadata": {},
      "source": [
        "Now let's look at the tides data"
      ]
    },
    {
      "cell_type": "code",
      "execution_count": 15,
      "metadata": {
        "colab": {
          "base_uri": "https://localhost:8080/",
          "height": 444
        },
        "id": "dfpkJV70NQDI",
        "outputId": "cc699c3a-faa4-4ee4-c9b7-94db58d44c97"
      },
      "outputs": [
        {
          "data": {
            "text/html": [
              "<div>\n",
              "<style scoped>\n",
              "    .dataframe tbody tr th:only-of-type {\n",
              "        vertical-align: middle;\n",
              "    }\n",
              "\n",
              "    .dataframe tbody tr th {\n",
              "        vertical-align: top;\n",
              "    }\n",
              "\n",
              "    .dataframe thead th {\n",
              "        text-align: right;\n",
              "    }\n",
              "</style>\n",
              "<table border=\"1\" class=\"dataframe\">\n",
              "  <thead>\n",
              "    <tr style=\"text-align: right;\">\n",
              "      <th></th>\n",
              "      <th>time</th>\n",
              "      <th>station_id</th>\n",
              "      <th>latitude</th>\n",
              "      <th>longitude</th>\n",
              "      <th>Water_Level_LAT</th>\n",
              "      <th>Water_Level_OD_Malin</th>\n",
              "      <th>QC_Flag</th>\n",
              "    </tr>\n",
              "  </thead>\n",
              "  <tbody>\n",
              "    <tr>\n",
              "      <th>0</th>\n",
              "      <td>UTC</td>\n",
              "      <td>NaN</td>\n",
              "      <td>degrees_north</td>\n",
              "      <td>degrees_east</td>\n",
              "      <td>metres</td>\n",
              "      <td>metres</td>\n",
              "      <td>NaN</td>\n",
              "    </tr>\n",
              "    <tr>\n",
              "      <th>1</th>\n",
              "      <td>2021-08-19T17:20:00Z</td>\n",
              "      <td>Wexford Harbour</td>\n",
              "      <td>52.3385</td>\n",
              "      <td>-6.4589</td>\n",
              "      <td>1.251</td>\n",
              "      <td>0.295</td>\n",
              "      <td>1.0</td>\n",
              "    </tr>\n",
              "    <tr>\n",
              "      <th>2</th>\n",
              "      <td>2021-08-19T17:25:00Z</td>\n",
              "      <td>Wexford Harbour</td>\n",
              "      <td>52.3385</td>\n",
              "      <td>-6.4589</td>\n",
              "      <td>1.243</td>\n",
              "      <td>0.287</td>\n",
              "      <td>1.0</td>\n",
              "    </tr>\n",
              "    <tr>\n",
              "      <th>3</th>\n",
              "      <td>2021-08-19T17:30:00Z</td>\n",
              "      <td>Wexford Harbour</td>\n",
              "      <td>52.3385</td>\n",
              "      <td>-6.4589</td>\n",
              "      <td>1.219</td>\n",
              "      <td>0.263</td>\n",
              "      <td>1.0</td>\n",
              "    </tr>\n",
              "    <tr>\n",
              "      <th>4</th>\n",
              "      <td>2021-08-19T17:35:00Z</td>\n",
              "      <td>Wexford Harbour</td>\n",
              "      <td>52.3385</td>\n",
              "      <td>-6.4589</td>\n",
              "      <td>1.208</td>\n",
              "      <td>0.252</td>\n",
              "      <td>1.0</td>\n",
              "    </tr>\n",
              "  </tbody>\n",
              "</table>\n",
              "</div>"
            ],
            "text/plain": [
              "                   time       station_id       latitude     longitude  \\\n",
              "0                   UTC              NaN  degrees_north  degrees_east   \n",
              "1  2021-08-19T17:20:00Z  Wexford Harbour        52.3385       -6.4589   \n",
              "2  2021-08-19T17:25:00Z  Wexford Harbour        52.3385       -6.4589   \n",
              "3  2021-08-19T17:30:00Z  Wexford Harbour        52.3385       -6.4589   \n",
              "4  2021-08-19T17:35:00Z  Wexford Harbour        52.3385       -6.4589   \n",
              "\n",
              "  Water_Level_LAT Water_Level_OD_Malin  QC_Flag  \n",
              "0          metres               metres      NaN  \n",
              "1           1.251                0.295      1.0  \n",
              "2           1.243                0.287      1.0  \n",
              "3           1.219                0.263      1.0  \n",
              "4           1.208                0.252      1.0  "
            ]
          },
          "execution_count": 15,
          "metadata": {},
          "output_type": "execute_result"
        }
      ],
      "source": [
        "path = 'datasets\\\\tides'\n",
        "tides = pd.concat(map(pd.read_csv, glob.glob(path + \"/*.csv\")))\n",
        "tides.head()"
      ]
    },
    {
      "cell_type": "code",
      "execution_count": 16,
      "metadata": {},
      "outputs": [
        {
          "data": {
            "text/plain": [
              "(1364748, 7)"
            ]
          },
          "execution_count": 16,
          "metadata": {},
          "output_type": "execute_result"
        }
      ],
      "source": [
        "tides.shape"
      ]
    },
    {
      "cell_type": "markdown",
      "metadata": {},
      "source": [
        "We have a very large dataset! "
      ]
    },
    {
      "cell_type": "code",
      "execution_count": 17,
      "metadata": {
        "colab": {
          "base_uri": "https://localhost:8080/"
        },
        "id": "b4EvL0LMlRTy",
        "outputId": "573be592-6909-4933-d1e9-fd6f76b33538"
      },
      "outputs": [
        {
          "data": {
            "text/plain": [
              "time                     object\n",
              "station_id               object\n",
              "latitude                 object\n",
              "longitude                object\n",
              "Water_Level_LAT          object\n",
              "Water_Level_OD_Malin     object\n",
              "QC_Flag                 float64\n",
              "dtype: object"
            ]
          },
          "execution_count": 17,
          "metadata": {},
          "output_type": "execute_result"
        }
      ],
      "source": [
        "tides.dtypes"
      ]
    },
    {
      "cell_type": "markdown",
      "metadata": {},
      "source": [
        "Let's eliminate the first row, which contains only information about the units, and all the null values"
      ]
    },
    {
      "cell_type": "code",
      "execution_count": 18,
      "metadata": {},
      "outputs": [
        {
          "data": {
            "text/html": [
              "<div>\n",
              "<style scoped>\n",
              "    .dataframe tbody tr th:only-of-type {\n",
              "        vertical-align: middle;\n",
              "    }\n",
              "\n",
              "    .dataframe tbody tr th {\n",
              "        vertical-align: top;\n",
              "    }\n",
              "\n",
              "    .dataframe thead th {\n",
              "        text-align: right;\n",
              "    }\n",
              "</style>\n",
              "<table border=\"1\" class=\"dataframe\">\n",
              "  <thead>\n",
              "    <tr style=\"text-align: right;\">\n",
              "      <th></th>\n",
              "      <th>time</th>\n",
              "      <th>station_id</th>\n",
              "      <th>latitude</th>\n",
              "      <th>longitude</th>\n",
              "      <th>Water_Level_LAT</th>\n",
              "      <th>Water_Level_OD_Malin</th>\n",
              "      <th>QC_Flag</th>\n",
              "    </tr>\n",
              "  </thead>\n",
              "  <tbody>\n",
              "    <tr>\n",
              "      <th>1</th>\n",
              "      <td>2021-08-19T17:20:00Z</td>\n",
              "      <td>Wexford Harbour</td>\n",
              "      <td>52.3385</td>\n",
              "      <td>-6.4589</td>\n",
              "      <td>1.251</td>\n",
              "      <td>0.295</td>\n",
              "      <td>1.0</td>\n",
              "    </tr>\n",
              "    <tr>\n",
              "      <th>2</th>\n",
              "      <td>2021-08-19T17:25:00Z</td>\n",
              "      <td>Wexford Harbour</td>\n",
              "      <td>52.3385</td>\n",
              "      <td>-6.4589</td>\n",
              "      <td>1.243</td>\n",
              "      <td>0.287</td>\n",
              "      <td>1.0</td>\n",
              "    </tr>\n",
              "    <tr>\n",
              "      <th>3</th>\n",
              "      <td>2021-08-19T17:30:00Z</td>\n",
              "      <td>Wexford Harbour</td>\n",
              "      <td>52.3385</td>\n",
              "      <td>-6.4589</td>\n",
              "      <td>1.219</td>\n",
              "      <td>0.263</td>\n",
              "      <td>1.0</td>\n",
              "    </tr>\n",
              "    <tr>\n",
              "      <th>4</th>\n",
              "      <td>2021-08-19T17:35:00Z</td>\n",
              "      <td>Wexford Harbour</td>\n",
              "      <td>52.3385</td>\n",
              "      <td>-6.4589</td>\n",
              "      <td>1.208</td>\n",
              "      <td>0.252</td>\n",
              "      <td>1.0</td>\n",
              "    </tr>\n",
              "    <tr>\n",
              "      <th>5</th>\n",
              "      <td>2021-08-19T17:40:00Z</td>\n",
              "      <td>Wexford Harbour</td>\n",
              "      <td>52.3385</td>\n",
              "      <td>-6.4589</td>\n",
              "      <td>1.202</td>\n",
              "      <td>0.246</td>\n",
              "      <td>1.0</td>\n",
              "    </tr>\n",
              "  </tbody>\n",
              "</table>\n",
              "</div>"
            ],
            "text/plain": [
              "                   time       station_id latitude longitude Water_Level_LAT  \\\n",
              "1  2021-08-19T17:20:00Z  Wexford Harbour  52.3385   -6.4589           1.251   \n",
              "2  2021-08-19T17:25:00Z  Wexford Harbour  52.3385   -6.4589           1.243   \n",
              "3  2021-08-19T17:30:00Z  Wexford Harbour  52.3385   -6.4589           1.219   \n",
              "4  2021-08-19T17:35:00Z  Wexford Harbour  52.3385   -6.4589           1.208   \n",
              "5  2021-08-19T17:40:00Z  Wexford Harbour  52.3385   -6.4589           1.202   \n",
              "\n",
              "  Water_Level_OD_Malin  QC_Flag  \n",
              "1                0.295      1.0  \n",
              "2                0.287      1.0  \n",
              "3                0.263      1.0  \n",
              "4                0.252      1.0  \n",
              "5                0.246      1.0  "
            ]
          },
          "execution_count": 18,
          "metadata": {},
          "output_type": "execute_result"
        }
      ],
      "source": [
        "tides.drop(0, axis = 0, inplace = True)\n",
        "tides.dropna(inplace=True)\n",
        "tides.head()"
      ]
    },
    {
      "cell_type": "code",
      "execution_count": 19,
      "metadata": {},
      "outputs": [
        {
          "data": {
            "text/plain": [
              "Index(['Galway Port', 'Wexford Harbour', 'Dublin Port', 'Ballyglass Harbour',\n",
              "       'Union Hall Harbor', 'Roonagh Pier', 'Aranmore Island - Leabgarrow',\n",
              "       'Dingle Harbour', 'Castletownbere Port', 'Skerries Harbour',\n",
              "       'Killybegs Port', 'Sligo', 'Ballycotton Harbour'],\n",
              "      dtype='object')"
            ]
          },
          "execution_count": 19,
          "metadata": {},
          "output_type": "execute_result"
        }
      ],
      "source": [
        "stations = tides['station_id'].value_counts().index\n",
        "stations"
      ]
    },
    {
      "cell_type": "markdown",
      "metadata": {},
      "source": [
        "And, once again, all the features come as objects, so we need to cast them to numeric types"
      ]
    },
    {
      "cell_type": "code",
      "execution_count": 20,
      "metadata": {
        "id": "68GVrxlXlTif"
      },
      "outputs": [],
      "source": [
        "tides = type_casting(tides)"
      ]
    },
    {
      "cell_type": "markdown",
      "metadata": {},
      "source": [
        "We need to figure out where the biggest water level occurs, so we will look at the Water Level Lat for all tides."
      ]
    },
    {
      "cell_type": "code",
      "execution_count": 21,
      "metadata": {
        "colab": {
          "base_uri": "https://localhost:8080/"
        },
        "id": "_jAtMksfb8MQ",
        "outputId": "fe9e893c-c1c2-4fc7-b250-51920b67c1e8"
      },
      "outputs": [],
      "source": [
        "def max_water_level(station):\n",
        "  maximo = max(tides[tides['station_id'] == station]['Water_Level_LAT'])\n",
        "  mes = tides[(tides['Water_Level_LAT'] == maximo) & (tides['station_id'] == station)]['time']\n",
        "  lat = tides[(tides['Water_Level_LAT'] == maximo) & (tides['station_id'] == station)]['latitude'].values[0]\n",
        "  longi = tides[(tides['Water_Level_LAT'] == maximo) & (tides['station_id'] == station)]['longitude'].values[0]\n",
        "  date = []\n",
        "  for m in mes:\n",
        "    date.append(datetime.datetime.strptime(m, \"%Y-%m-%dT%H:%M:%SZ\"))\n",
        "  month = pd.DataFrame([x.strftime(\"%B\") for x in date]).value_counts().index[0][0]\n",
        "  print (\"The biggest water level occurs at LAT: \" + str(lat) + \", LONG: \" + str (longi) + \" in \" + station + \" at \" + str(maximo) + \" meters and it occurs in \" + str(month))\n",
        "  return lat, longi, month, maximo, station"
      ]
    },
    {
      "cell_type": "code",
      "execution_count": 22,
      "metadata": {},
      "outputs": [
        {
          "name": "stdout",
          "output_type": "stream",
          "text": [
            "The biggest water level occurs at LAT: 53.269, LONG: -9.048 in Galway Port at 6.143 meters and it occurs in December\n",
            "The biggest water level occurs at LAT: 52.3385, LONG: -6.4589 in Wexford Harbour at 2.286 meters and it occurs in December\n",
            "The biggest water level occurs at LAT: 53.3457, LONG: -6.2217 in Dublin Port at 4.783 meters and it occurs in January\n",
            "The biggest water level occurs at LAT: 54.2536, LONG: -9.8928 in Ballyglass Harbour at 4.266 meters and it occurs in February\n",
            "The biggest water level occurs at LAT: 51.558964, LONG: -9.13349 in Union Hall Harbor at 4.227 meters and it occurs in December\n",
            "The biggest water level occurs at LAT: 53.76235, LONG: -9.90442 in Roonagh Pier at 5.117 meters and it occurs in December\n",
            "The biggest water level occurs at LAT: 54.9905, LONG: -8.4955 in Aranmore Island - Leabgarrow at 4.717 meters and it occurs in January\n",
            "The biggest water level occurs at LAT: 52.13924, LONG: -10.27732 in Dingle Harbour at 5.081 meters and it occurs in December\n",
            "The biggest water level occurs at LAT: 51.6496, LONG: -9.9034 in Castletownbere Port at 4.272 meters and it occurs in December\n",
            "The biggest water level occurs at LAT: 53.585, LONG: -6.1081 in Skerries Harbour at 5.287 meters and it occurs in February\n",
            "The biggest water level occurs at LAT: 54.6364, LONG: -8.3949 in Killybegs Port at 4.656 meters and it occurs in February\n",
            "The biggest water level occurs at LAT: 54.3099, LONG: -8.582 in Sligo at 4.584 meters and it occurs in August\n",
            "The biggest water level occurs at LAT: 51.8278, LONG: -8.0007 in Ballycotton Harbour at 4.704 meters and it occurs in February\n"
          ]
        }
      ],
      "source": [
        "latitudes, longitudes, months, maxima, station_ids = [], [], [], [], []\n",
        "for i in stations:\n",
        "    lat, longi, month, maxi, station_id = max_water_level(i)\n",
        "    latitudes.append(lat)\n",
        "    longitudes.append(longi)\n",
        "    months.append(month)\n",
        "    maxima.append(maxi)\n",
        "    station_ids.append(station_id)"
      ]
    },
    {
      "cell_type": "code",
      "execution_count": 23,
      "metadata": {},
      "outputs": [
        {
          "data": {
            "image/png": "[encoded data removed]",
            "text/plain": [
              "<Figure size 432x288 with 1 Axes>"
            ]
          },
          "metadata": {
            "needs_background": "light"
          },
          "output_type": "display_data"
        }
      ],
      "source": [
        "fig, ax = plt.subplots()\n",
        "ax.barh(station_ids, maxima)\n",
        "ax.set_xlabel('Water level (meters)')\n",
        "ax.set_ylabel('Station')\n",
        "ax.set_title('Biggest water level per station')\n",
        "plt.show()"
      ]
    },
    {
      "cell_type": "code",
      "execution_count": 24,
      "metadata": {},
      "outputs": [
        {
          "name": "stdout",
          "output_type": "stream",
          "text": [
            "The biggest water level occurs at LAT: 53.269, LONG: -9.048 in Galway Port at 6.143 meters and it occurs in December\n"
          ]
        },
        {
          "data": {
            "text/plain": [
              "(53.269, -9.048, 'December', 6.143, 'Galway Port')"
            ]
          },
          "execution_count": 24,
          "metadata": {},
          "output_type": "execute_result"
        }
      ],
      "source": [
        "max_water_level('Galway Port')"
      ]
    },
    {
      "cell_type": "markdown",
      "metadata": {},
      "source": [
        "We can see here that the biggest of all waves occurs in Galway Port! But let's see when most of the big waves occur:"
      ]
    },
    {
      "cell_type": "code",
      "execution_count": 25,
      "metadata": {},
      "outputs": [
        {
          "data": {
            "image/png": "[encoded data removed]",
            "text/plain": [
              "<Figure size 432x288 with 1 Axes>"
            ]
          },
          "metadata": {},
          "output_type": "display_data"
        }
      ],
      "source": [
        "mon = pd.DataFrame(months)\n",
        "vc = mon.value_counts()\n",
        "fig, ax = plt.subplots()\n",
        "ax.pie(vc[0:], labels = mon[0].value_counts().index, autopct='%1.1f%%',)\n",
        "ax.set_title('Months with the biggest waves')\n",
        "plt.show()"
      ]
    },
    {
      "cell_type": "markdown",
      "metadata": {},
      "source": [
        "Now we know that December is the month when the biggest waves happen!"
      ]
    },
    {
      "cell_type": "markdown",
      "metadata": {},
      "source": [
        "#### Buoys again"
      ]
    },
    {
      "cell_type": "markdown",
      "metadata": {},
      "source": [
        "First, to get the wave length, we need to calculate it. According to the Ocean Data Labs, the Wave length is L = gT²/2pi, where g=9.8m/s². So, let's calculate it and aggregate to our data:"
      ]
    },
    {
      "cell_type": "code",
      "execution_count": 36,
      "metadata": {},
      "outputs": [],
      "source": [
        "def wavelength(T):\n",
        "    g = 9.8\n",
        "    return g *(T ** 2) / (2*np.pi)"
      ]
    },
    {
      "cell_type": "code",
      "execution_count": 37,
      "metadata": {},
      "outputs": [],
      "source": [
        "buoys['wavelength'] = buoys['PeakPeriod'].apply(wavelength)"
      ]
    },
    {
      "cell_type": "code",
      "execution_count": 38,
      "metadata": {},
      "outputs": [
        {
          "data": {
            "text/html": [
              "<div>\n",
              "<style scoped>\n",
              "    .dataframe tbody tr th:only-of-type {\n",
              "        vertical-align: middle;\n",
              "    }\n",
              "\n",
              "    .dataframe tbody tr th {\n",
              "        vertical-align: top;\n",
              "    }\n",
              "\n",
              "    .dataframe thead th {\n",
              "        text-align: right;\n",
              "    }\n",
              "</style>\n",
              "<table border=\"1\" class=\"dataframe\">\n",
              "  <thead>\n",
              "    <tr style=\"text-align: right;\">\n",
              "      <th></th>\n",
              "      <th>longitude</th>\n",
              "      <th>latitude</th>\n",
              "      <th>PeakPeriod</th>\n",
              "      <th>SignificantWaveHeight</th>\n",
              "      <th>Hmax</th>\n",
              "      <th>SeaTemperature</th>\n",
              "      <th>wavelength</th>\n",
              "    </tr>\n",
              "  </thead>\n",
              "  <tbody>\n",
              "    <tr>\n",
              "      <th>longitude</th>\n",
              "      <td>1.000000</td>\n",
              "      <td>0.514141</td>\n",
              "      <td>-0.518752</td>\n",
              "      <td>-0.403424</td>\n",
              "      <td>-0.399717</td>\n",
              "      <td>0.036289</td>\n",
              "      <td>-0.481078</td>\n",
              "    </tr>\n",
              "    <tr>\n",
              "      <th>latitude</th>\n",
              "      <td>0.514141</td>\n",
              "      <td>1.000000</td>\n",
              "      <td>-0.294099</td>\n",
              "      <td>0.102472</td>\n",
              "      <td>0.106403</td>\n",
              "      <td>-0.032596</td>\n",
              "      <td>-0.243233</td>\n",
              "    </tr>\n",
              "    <tr>\n",
              "      <th>PeakPeriod</th>\n",
              "      <td>-0.518752</td>\n",
              "      <td>-0.294099</td>\n",
              "      <td>1.000000</td>\n",
              "      <td>0.370907</td>\n",
              "      <td>0.354117</td>\n",
              "      <td>-0.283511</td>\n",
              "      <td>0.968564</td>\n",
              "    </tr>\n",
              "    <tr>\n",
              "      <th>SignificantWaveHeight</th>\n",
              "      <td>-0.403424</td>\n",
              "      <td>0.102472</td>\n",
              "      <td>0.370907</td>\n",
              "      <td>1.000000</td>\n",
              "      <td>0.988224</td>\n",
              "      <td>-0.332236</td>\n",
              "      <td>0.407566</td>\n",
              "    </tr>\n",
              "    <tr>\n",
              "      <th>Hmax</th>\n",
              "      <td>-0.399717</td>\n",
              "      <td>0.106403</td>\n",
              "      <td>0.354117</td>\n",
              "      <td>0.988224</td>\n",
              "      <td>1.000000</td>\n",
              "      <td>-0.328623</td>\n",
              "      <td>0.386573</td>\n",
              "    </tr>\n",
              "    <tr>\n",
              "      <th>SeaTemperature</th>\n",
              "      <td>0.036289</td>\n",
              "      <td>-0.032596</td>\n",
              "      <td>-0.283511</td>\n",
              "      <td>-0.332236</td>\n",
              "      <td>-0.328623</td>\n",
              "      <td>1.000000</td>\n",
              "      <td>-0.284881</td>\n",
              "    </tr>\n",
              "    <tr>\n",
              "      <th>wavelength</th>\n",
              "      <td>-0.481078</td>\n",
              "      <td>-0.243233</td>\n",
              "      <td>0.968564</td>\n",
              "      <td>0.407566</td>\n",
              "      <td>0.386573</td>\n",
              "      <td>-0.284881</td>\n",
              "      <td>1.000000</td>\n",
              "    </tr>\n",
              "  </tbody>\n",
              "</table>\n",
              "</div>"
            ],
            "text/plain": [
              "                       longitude  latitude  PeakPeriod  SignificantWaveHeight  \\\n",
              "longitude               1.000000  0.514141   -0.518752              -0.403424   \n",
              "latitude                0.514141  1.000000   -0.294099               0.102472   \n",
              "PeakPeriod             -0.518752 -0.294099    1.000000               0.370907   \n",
              "SignificantWaveHeight  -0.403424  0.102472    0.370907               1.000000   \n",
              "Hmax                   -0.399717  0.106403    0.354117               0.988224   \n",
              "SeaTemperature          0.036289 -0.032596   -0.283511              -0.332236   \n",
              "wavelength             -0.481078 -0.243233    0.968564               0.407566   \n",
              "\n",
              "                           Hmax  SeaTemperature  wavelength  \n",
              "longitude             -0.399717        0.036289   -0.481078  \n",
              "latitude               0.106403       -0.032596   -0.243233  \n",
              "PeakPeriod             0.354117       -0.283511    0.968564  \n",
              "SignificantWaveHeight  0.988224       -0.332236    0.407566  \n",
              "Hmax                   1.000000       -0.328623    0.386573  \n",
              "SeaTemperature        -0.328623        1.000000   -0.284881  \n",
              "wavelength             0.386573       -0.284881    1.000000  "
            ]
          },
          "execution_count": 38,
          "metadata": {},
          "output_type": "execute_result"
        }
      ],
      "source": [
        "buoys.corr()"
      ]
    },
    {
      "cell_type": "code",
      "execution_count": 39,
      "metadata": {
        "colab": {
          "base_uri": "https://localhost:8080/",
          "height": 333
        },
        "id": "zqt7DfJfiZNv",
        "outputId": "503cd973-df34-4b35-a6b5-d7a9ce688a2d"
      },
      "outputs": [
        {
          "data": {
            "text/plain": [
              "-0.28488129948919544"
            ]
          },
          "execution_count": 39,
          "metadata": {},
          "output_type": "execute_result"
        }
      ],
      "source": [
        "buoys.corr()['wavelength']['SeaTemperature']"
      ]
    },
    {
      "cell_type": "markdown",
      "metadata": {},
      "source": [
        "We can see that the wave length has some correlation with the sea temperature, but it's not that strong. Let's see how a simple model like linear regression does."
      ]
    },
    {
      "cell_type": "code",
      "execution_count": 40,
      "metadata": {
        "id": "-0o56qYooW4y"
      },
      "outputs": [],
      "source": [
        "from sklearn.linear_model import LinearRegression\n",
        "from sklearn.model_selection import train_test_split\n",
        "from sklearn.metrics import mean_squared_error"
      ]
    },
    {
      "cell_type": "code",
      "execution_count": 42,
      "metadata": {
        "id": "-W9rPBAIpNVq"
      },
      "outputs": [],
      "source": [
        "LR = LinearRegression()\n",
        "X_train, X_test, y_train, y_test = train_test_split(buoys[['SeaTemperature', 'longitude', 'latitude']], buoys['wavelength'], test_size=0.33, random_state=42)"
      ]
    },
    {
      "cell_type": "code",
      "execution_count": 43,
      "metadata": {
        "id": "PhPEoQHIpXxb"
      },
      "outputs": [],
      "source": [
        "LR.fit(X_train, y_train)\n",
        "y_pred = LR.predict(X_test)"
      ]
    },
    {
      "cell_type": "code",
      "execution_count": 44,
      "metadata": {
        "colab": {
          "base_uri": "https://localhost:8080/"
        },
        "id": "cPoFdUwDqDoi",
        "outputId": "a626e2c4-de03-4732-cc18-e2240d92a435"
      },
      "outputs": [
        {
          "name": "stdout",
          "output_type": "stream",
          "text": [
            "88.41031786831465\n"
          ]
        }
      ],
      "source": [
        "print(mean_squared_error(y_test, y_pred, squared = False))"
      ]
    },
    {
      "cell_type": "code",
      "execution_count": 46,
      "metadata": {
        "colab": {
          "base_uri": "https://localhost:8080/"
        },
        "id": "E3GZafg6qc8c",
        "outputId": "879adb72-9d0a-472f-bae4-341ecbfa8e48"
      },
      "outputs": [
        {
          "data": {
            "text/plain": [
              "count    45746.000000\n",
              "mean       162.400514\n",
              "std        105.814511\n",
              "min          2.245995\n",
              "25%         85.641176\n",
              "50%        155.971844\n",
              "75%        215.705317\n",
              "max        974.824026\n",
              "Name: wavelength, dtype: float64"
            ]
          },
          "execution_count": 46,
          "metadata": {},
          "output_type": "execute_result"
        }
      ],
      "source": [
        "buoys['wavelength'].describe()"
      ]
    },
    {
      "cell_type": "markdown",
      "metadata": {},
      "source": [
        "Although the RMSE score, which measures how far the predictions are from the true value, is a bit high, we can see that it is smaller than the standard deviation of the wave length, so I would say it's a pretty good guess, given the low correlation!"
      ]
    }
  ],
  "metadata": {
    "colab": {
      "name": "Dadosfera",
      "provenance": []
    },
    "kernelspec": {
      "display_name": "Python 3.9.0 64-bit",
      "language": "python",
      "name": "python3"
    },
    "language_info": {
      "codemirror_mode": {
        "name": "ipython",
        "version": 3
      },
      "file_extension": ".py",
      "mimetype": "text/x-python",
      "name": "python",
      "nbconvert_exporter": "python",
      "pygments_lexer": "ipython3",
      "version": "3.9.0"
    },
    "vscode": {
      "interpreter": {
        "hash": "160dd5a29845da2ccff44950600ea5f5a94d7169d67e31c63437a24b13a0073e"
      }
    }
  },
  "nbformat": 4,
  "nbformat_minor": 0
}
